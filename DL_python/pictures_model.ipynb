{
 "cells": [
  {
   "cell_type": "code",
   "execution_count": 1,
   "metadata": {},
   "outputs": [],
   "source": [
    "import tensorflow as tf\n",
    "from time import time\n",
    "import pandas as pd\n",
    "import matplotlib.pyplot as plt\n",
    "import numpy as np\n",
    "#import mlutils\n",
    "%matplotlib inline"
   ]
  },
  {
   "cell_type": "markdown",
   "metadata": {},
   "source": [
    "### descargamos imágenes de dos queries en google"
   ]
  },
  {
   "cell_type": "code",
   "execution_count": 2,
   "metadata": {},
   "outputs": [],
   "source": [
    "downloads = \"/tmp/downloads\"\n",
    "traintest_imgs = \"/tmp/imgs\"\n",
    "\n",
    "train_pct = .7"
   ]
  },
  {
   "cell_type": "code",
   "execution_count": 3,
   "metadata": {},
   "outputs": [],
   "source": [
    "# !rm -rf $downloads\n",
    "# !mkdir $downloads"
   ]
  },
  {
   "cell_type": "code",
   "execution_count": 4,
   "metadata": {},
   "outputs": [],
   "source": [
    "# cfg=\"\"\"\n",
    "# {\n",
    "#     \"Records\": [\n",
    "#         {\n",
    "#             \"keywords\": \"fire\",\n",
    "#             \"format\": \"jpg\",\n",
    "#             \"limit\": 100,\n",
    "#             \"type\": \"photo\",\n",
    "#             \"size\": \"medium\",\n",
    "#             \"output_directory\": \"%s\"\n",
    "#         },\n",
    "#         {\n",
    "#             \"keywords\": \"random\",\n",
    "#             \"format\": \"jpg\",\n",
    "#             \"limit\": 100,\n",
    "#             \"type\": \"photo\",\n",
    "#             \"size\": \"medium\", \n",
    "#             \"output_directory\": \"%s\"\n",
    "#         }\n",
    "#     ]\n",
    "# }\n",
    "# \"\"\"%(downloads, downloads)"
   ]
  },
  {
   "cell_type": "code",
   "execution_count": 5,
   "metadata": {},
   "outputs": [],
   "source": [
    "# with open(downloads+\"/cfg.txt\", \"w\") as f:\n",
    "#     f.write(cfg)"
   ]
  },
  {
   "cell_type": "code",
   "execution_count": 6,
   "metadata": {},
   "outputs": [],
   "source": [
    "# !googleimagesdownload --config_file $downloads/cfg.txt"
   ]
  },
  {
   "cell_type": "markdown",
   "metadata": {},
   "source": [
    "### revisamos las imágenes y eliminamos las defectuosas"
   ]
  },
  {
   "cell_type": "code",
   "execution_count": 7,
   "metadata": {},
   "outputs": [],
   "source": [
    "# from skimage import io\n",
    "# files = !find $downloads -type f\n",
    "# for fname in files:\n",
    "#     if fname!=downloads+\"/cfg.txt\":\n",
    "#         print (\".\",)\n",
    "#         try:\n",
    "#             io.imread(fname)\n",
    "#         except:\n",
    "#             print (\"\\nremoving\",fname,\"as cannot be read\\n\")\n",
    "#             !rm $fname"
   ]
  },
  {
   "cell_type": "markdown",
   "metadata": {},
   "source": [
    "### organizamos las imágenes en train y en test"
   ]
  },
  {
   "cell_type": "code",
   "execution_count": 8,
   "metadata": {},
   "outputs": [
    {
     "name": "stdout",
     "output_type": "stream",
     "text": [
      "['fire', 'random']\n"
     ]
    }
   ],
   "source": [
    "classdirs = !find $downloads -type d\n",
    "classdirs = [i.split(\"/\")[-1] for i in classdirs if i!=downloads]\n",
    "print (classdirs)"
   ]
  },
  {
   "cell_type": "code",
   "execution_count": 9,
   "metadata": {},
   "outputs": [],
   "source": [
    "!rm -rf $traintest_imgs"
   ]
  },
  {
   "cell_type": "code",
   "execution_count": 10,
   "metadata": {
    "scrolled": false
   },
   "outputs": [
    {
     "name": "stdout",
     "output_type": "stream",
     "text": [
      "fire\n",
      "    splitting files ... \n",
      "copying files\n",
      "/bin/sh: 1: Syntax error: \"(\" unexpected\n",
      "random\n",
      "    splitting files ... \n",
      "copying files\n"
     ]
    }
   ],
   "source": [
    "for classdir in classdirs:\n",
    "    print (classdir)\n",
    "    print (\"    splitting files ... \"),\n",
    "    files = !find $downloads/$classdir -type f\n",
    "    files = np.r_[files]\n",
    "    n_train = int(len(files)*train_pct)\n",
    "    files = np.random.permutation(files)\n",
    "    files_train = files[:n_train]\n",
    "    files_test  = files[n_train:]\n",
    "    !mkdir -p $traintest_imgs/train/$classdir\n",
    "    !mkdir -p $traintest_imgs/test/$classdir\n",
    "    print (\"copying files\")      \n",
    "    for f in files_train:\n",
    "        #print (f)\n",
    "        !cp $f $traintest_imgs/train/$classdir\n",
    "    for f in files_test:\n",
    "        #print (f)\n",
    "        !cp $f $traintest_imgs/test/$classdir"
   ]
  },
  {
   "cell_type": "markdown",
   "metadata": {},
   "source": [
    "### sanity check 1"
   ]
  },
  {
   "cell_type": "code",
   "execution_count": 11,
   "metadata": {},
   "outputs": [
    {
     "name": "stdout",
     "output_type": "stream",
     "text": [
      "fire\n",
      "       59 train images\n",
      "       26 test images\n",
      "random\n",
      "       56 train images\n",
      "       24 test images\n"
     ]
    }
   ],
   "source": [
    "for classdir in classdirs:\n",
    "    print (classdir)\n",
    "    files = !find  $traintest_imgs/train/$classdir -type f\n",
    "    print (\"      \",len(files), \"train images\")\n",
    "    files = !find  $traintest_imgs/test/$classdir -type f\n",
    "    print (\"      \",len(files), \"test images\")"
   ]
  },
  {
   "cell_type": "code",
   "execution_count": 12,
   "metadata": {},
   "outputs": [],
   "source": [
    "from tensorflow.keras.preprocessing.image import ImageDataGenerator, array_to_img, img_to_array, load_img"
   ]
  },
  {
   "cell_type": "code",
   "execution_count": 13,
   "metadata": {},
   "outputs": [],
   "source": [
    "datagen = ImageDataGenerator(rescale=1./255, fill_mode='nearest')\n",
    "batch_size = 10\n",
    "img_size = 64\n",
    "train_generator_fn = lambda: datagen.flow_from_directory(\n",
    "        traintest_imgs+\"/train\",  # this is the target directory\n",
    "        target_size=(img_size, img_size),  # all images will be resized to 150x150\n",
    "        batch_size=batch_size,\n",
    "        interpolation = \"bilinear\",\n",
    "        class_mode='binary') \n",
    "\n",
    "test_generator_fn = lambda: datagen.flow_from_directory(\n",
    "        traintest_imgs+\"/test\",  # this is the target directory\n",
    "        target_size=(img_size, img_size),  # all images will be resized to 150x150\n",
    "        batch_size=batch_size,\n",
    "        interpolation = \"bilinear\",\n",
    "        class_mode='binary') "
   ]
  },
  {
   "cell_type": "markdown",
   "metadata": {},
   "source": [
    "### train keras!!!"
   ]
  },
  {
   "cell_type": "code",
   "execution_count": 14,
   "metadata": {},
   "outputs": [],
   "source": [
    "def get_conv_model_A(num_classes, img_size=64, compile=True):\n",
    "    from tensorflow.python.framework import ops\n",
    "    ops.reset_default_graph()\n",
    "    tf.keras.backend.clear_session()\n",
    "    print (\"using\",num_classes,\"classes\")\n",
    "    inputs = tf.keras.Input(shape=(img_size,img_size,3), name=\"input_1\")\n",
    "    layers = tf.keras.layers.Conv2D(15,(10,10), activation=\"relu\")(inputs)\n",
    "    layers = tf.keras.layers.Flatten()(layers)\n",
    "    layers = tf.keras.layers.Dense(64, activation=tf.nn.relu)(layers)\n",
    "    layers = tf.keras.layers.Dropout(0.2)(layers)\n",
    "    predictions = tf.keras.layers.Dense(num_classes, activation=tf.nn.softmax, name=\"output_1\")(layers)\n",
    "    model = tf.keras.Model(inputs = inputs, outputs=predictions)\n",
    "    if compile:\n",
    "        model.compile(optimizer='adam',\n",
    "                      loss='sparse_categorical_crossentropy',\n",
    "                      metrics=['accuracy'])\n",
    "    return model"
   ]
  },
  {
   "cell_type": "code",
   "execution_count": 15,
   "metadata": {},
   "outputs": [
    {
     "name": "stdout",
     "output_type": "stream",
     "text": [
      "using 2 classes\n",
      "Found 115 images belonging to 2 classes.\n",
      "Found 50 images belonging to 2 classes.\n",
      "Epoch 1/5\n",
      "100/100 [==============================] - 16s 159ms/step - loss: 0.4838 - accuracy: 0.8021 - val_loss: 0.8729 - val_accuracy: 0.7400\n",
      "Epoch 2/5\n",
      "100/100 [==============================] - 15s 151ms/step - loss: 0.0985 - accuracy: 0.9677 - val_loss: 1.3635 - val_accuracy: 0.7600\n",
      "Epoch 3/5\n",
      "100/100 [==============================] - 15s 152ms/step - loss: 0.0403 - accuracy: 0.9874 - val_loss: 1.3785 - val_accuracy: 0.7600\n",
      "Epoch 4/5\n",
      "100/100 [==============================] - 15s 151ms/step - loss: 0.0139 - accuracy: 0.9948 - val_loss: 1.4803 - val_accuracy: 0.7800\n",
      "Epoch 5/5\n",
      "100/100 [==============================] - 15s 150ms/step - loss: 0.0024 - accuracy: 1.0000 - val_loss: 1.7957 - val_accuracy: 0.7800\n"
     ]
    },
    {
     "data": {
      "text/plain": [
       "<tensorflow.python.keras.callbacks.History at 0x7fb52a1ae9b0>"
      ]
     },
     "execution_count": 15,
     "metadata": {},
     "output_type": "execute_result"
    }
   ],
   "source": [
    "num_classes = len(classdirs)\n",
    "model = get_conv_model_A(num_classes, img_size=img_size)\n",
    "\n",
    "model.fit_generator(\n",
    "        train_generator_fn(),\n",
    "        steps_per_epoch=1000 // batch_size,\n",
    "        epochs=5,\n",
    "        validation_data=test_generator_fn(),\n",
    "        validation_steps=400 // batch_size)\n",
    "\n",
    "\n",
    "# model.fit(\n",
    "#         train_generator_fn(),\n",
    "#         steps_per_epoch=1000 // batch_size,\n",
    "#         epochs=3,\n",
    "#         validation_data=test_generator_fn(),\n",
    "#         validation_steps=400 // batch_size)"
   ]
  },
  {
   "cell_type": "code",
   "execution_count": 16,
   "metadata": {},
   "outputs": [
    {
     "name": "stdout",
     "output_type": "stream",
     "text": [
      "Saved model to disk\n"
     ]
    }
   ],
   "source": [
    "# serialize model to JSON\n",
    "model_json = model.to_json()\n",
    "with open(\"model.json\", \"w\") as json_file:\n",
    "    json_file.write(model_json)\n",
    "# serialize weights to HDF5\n",
    "model.save_weights(\"model.h5\")\n",
    "print(\"Saved model to disk\")"
   ]
  },
  {
   "cell_type": "code",
   "execution_count": null,
   "metadata": {},
   "outputs": [],
   "source": []
  },
  {
   "cell_type": "code",
   "execution_count": null,
   "metadata": {},
   "outputs": [],
   "source": []
  }
 ],
 "metadata": {
  "kernelspec": {
   "display_name": "Python 3",
   "language": "python",
   "name": "python3"
  },
  "language_info": {
   "codemirror_mode": {
    "name": "ipython",
    "version": 3
   },
   "file_extension": ".py",
   "mimetype": "text/x-python",
   "name": "python",
   "nbconvert_exporter": "python",
   "pygments_lexer": "ipython3",
   "version": "3.6.8"
  }
 },
 "nbformat": 4,
 "nbformat_minor": 2
}
